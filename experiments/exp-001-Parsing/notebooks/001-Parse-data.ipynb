{
 "cells": [
  {
   "cell_type": "code",
   "execution_count": 1,
   "metadata": {},
   "outputs": [],
   "source": [
    "import numpy as np\n",
    "import pandas as pd\n",
    "pd.options.display.max_columns = 100"
   ]
  },
  {
   "cell_type": "code",
   "execution_count": 3,
   "metadata": {},
   "outputs": [
    {
     "data": {
      "text/plain": [
       "['/opt/jupyterhub/notebooks/aolferuk/surf-demo/crimes/data/raw/crimes.csv']"
      ]
     },
     "execution_count": 3,
     "metadata": {},
     "output_type": "execute_result"
    }
   ],
   "source": [
    "# Координатор предоставляет возможность легкой навигации по проекту: основную структуру папок он \"запоминает\"\n",
    "from crimes.coordinator import Coordinator\n",
    "\n",
    "coord = Coordinator()\n",
    "coord.data_raw.contents()"
   ]
  },
  {
   "cell_type": "code",
   "execution_count": 4,
   "metadata": {},
   "outputs": [],
   "source": [
    "# Синтаксический сахар для загрузки файлов:\n",
    "df = coord.data_raw.join('crimes.csv').load()\n",
    "\n",
    "df['Date'] = pd.to_datetime(df['Date'])\n",
    "df['Updated On'] = pd.to_datetime(df['Updated On'])\n",
    "df['Location X'] = np.nan\n",
    "df['Location Y'] = np.nan\n",
    "df.loc[df.Location.notnull(), 'Location X'] = df.loc[df.Location.notnull(), 'Location'].apply(lambda x: eval(x)[0])\n",
    "df.loc[df.Location.notnull(), 'Location Y'] = df.loc[df.Location.notnull(), 'Location'].apply(lambda x: eval(x)[1])\n",
    "df.drop('Location', axis=1, inplace=True)\n",
    "df['month'] = df.Date.apply(lambda x: x.month)\n",
    "df['day'] = df.Date.apply(lambda x: x.day)\n",
    "df['hour'] = df.Date.apply(lambda x: x.hour)\n",
    "\n",
    "# Синтаксический сахар для сериализации файлов:\n",
    "coord.data_interim.join('crimes.pkl').save(df)"
   ]
  }
 ],
 "metadata": {
  "kernelspec": {
   "display_name": "Python 3",
   "language": "python",
   "name": "python3"
  },
  "language_info": {
   "codemirror_mode": {
    "name": "ipython",
    "version": 3
   },
   "file_extension": ".py",
   "mimetype": "text/x-python",
   "name": "python",
   "nbconvert_exporter": "python",
   "pygments_lexer": "ipython3",
   "version": "3.6.7"
  }
 },
 "nbformat": 4,
 "nbformat_minor": 2
}
